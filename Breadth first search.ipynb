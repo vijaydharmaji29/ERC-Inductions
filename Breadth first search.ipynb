{
 "cells": [
  {
   "cell_type": "code",
   "execution_count": 33,
   "id": "1d2804fe",
   "metadata": {},
   "outputs": [],
   "source": [
    "import numpy as np"
   ]
  },
  {
   "cell_type": "code",
   "execution_count": 39,
   "id": "0abcd406",
   "metadata": {},
   "outputs": [
    {
     "name": "stdout",
     "output_type": "stream",
     "text": [
      "[[ 0 -1 -1 -1 -1 -1 -1 -1 -1]\n",
      " [-1 -1 -1 -1 -1 -1 -1 -1 -1]\n",
      " [-1 -1 -1 -1 -1 -1 -1 -1 -1]\n",
      " [-1 -1 -1 -1 -1 -1 -1 -1 -1]\n",
      " [-1 -1 -1 -1 99 -1 -1 -1 -1]\n",
      " [-1 -1 -1 -1 -1 -1 -1 -1 -1]\n",
      " [-1 -1 -1 -1 -1 -1 -1 -1 -1]\n",
      " [-1 -1 -1 -1 -1 -1 -1 -1 -1]\n",
      " [-1 -1 -1 -1 -1 -1 -1 -1 -1]]\n"
     ]
    }
   ],
   "source": [
    "# creating 9 x 9 grid\n",
    "grid = np.full((9,9), -1)\n",
    "\n",
    "start = (0,0)\n",
    "end = (4,4)\n",
    "\n",
    "grid[start[0], start[1]] = 0\n",
    "grid[end[0], end[1]] = 99\n",
    "\n",
    "cp = start\n",
    "\n",
    "\n",
    "not_explored = [(0,0,0)]\n",
    "\n",
    "print(grid)"
   ]
  },
  {
   "cell_type": "code",
   "execution_count": 40,
   "id": "6018b3cc",
   "metadata": {},
   "outputs": [],
   "source": [
    "#function to check next possible moves\n",
    "def next_possible_moves(point):\n",
    "    row = point[0]\n",
    "    column = point[1]\n",
    "    depth = point[2]\n",
    "    \n",
    "    moves = [(row - 1, column), (row + 1, column), (row, column - 1), (row, column + 1)]\n",
    "    \n",
    "    for m in moves: \n",
    "        if m == end:\n",
    "            return 1\n",
    "        else:\n",
    "            if m[0] >= 0 and m[0] <= 8 and m[1] >= 0 and m[1] <= 8 and grid[m[0], m[1]] == -1 and grid[m[0], m[1]] != -2: \n",
    "                not_explored.append(((m[0]), m[1], depth + 1))\n",
    "                grid[m[0], m[1]] = depth + 1\n",
    "    \n",
    "    return 0\n",
    "    \n",
    "            "
   ]
  },
  {
   "cell_type": "code",
   "execution_count": 41,
   "id": "4578c561",
   "metadata": {},
   "outputs": [],
   "source": [
    "def sort_not_explored():\n",
    "    arr = not_explored\n",
    "    n = len(arr)\n",
    " \n",
    "    # Traverse through all array elements\n",
    "    for i in range(n-1):\n",
    "    # range(n) also work but outer loop will\n",
    "    # repeat one time more than needed.\n",
    " \n",
    "        # Last i elements are already in place\n",
    "        for j in range(0, n-i-1):\n",
    " \n",
    "            # traverse the array from 0 to n-i-1\n",
    "            # Swap if the element found is greater\n",
    "            # than the next element\n",
    "            if arr[j][2] > arr[j + 1][2] :\n",
    "                arr[j], arr[j + 1] = arr[j + 1], arr[j]\n",
    "              "
   ]
  },
  {
   "cell_type": "code",
   "execution_count": 42,
   "id": "d3cc0f45",
   "metadata": {},
   "outputs": [],
   "source": [
    "while True:\n",
    "    r = next_possible_moves(not_explored[0])\n",
    "    if r == 1: \n",
    "        break\n",
    "    \n",
    "    not_explored.pop(0)\n",
    "    sort_not_explored"
   ]
  },
  {
   "cell_type": "code",
   "execution_count": 43,
   "id": "f8f5e3b0",
   "metadata": {},
   "outputs": [
    {
     "name": "stdout",
     "output_type": "stream",
     "text": [
      "[[ 0  1  2  3  4  5  6  7 -1]\n",
      " [ 1  2  3  4  5  6  7 -1 -1]\n",
      " [ 2  3  4  5  6  7 -1 -1 -1]\n",
      " [ 3  4  5  6  7 -1 -1 -1 -1]\n",
      " [ 4  5  6  7 99 -1 -1 -1 -1]\n",
      " [ 5  6  7  8 -1 -1 -1 -1 -1]\n",
      " [ 6  7  8 -1 -1 -1 -1 -1 -1]\n",
      " [ 7  8 -1 -1 -1 -1 -1 -1 -1]\n",
      " [ 8 -1 -1 -1 -1 -1 -1 -1 -1]]\n"
     ]
    }
   ],
   "source": [
    "print(grid)"
   ]
  },
  {
   "cell_type": "code",
   "execution_count": 44,
   "id": "c1f120fb",
   "metadata": {},
   "outputs": [
    {
     "data": {
      "text/plain": [
       "[(4, 3, 7),\n",
       " (3, 4, 7),\n",
       " (2, 5, 7),\n",
       " (1, 6, 7),\n",
       " (0, 7, 7),\n",
       " (8, 0, 8),\n",
       " (7, 1, 8),\n",
       " (6, 2, 8),\n",
       " (5, 3, 8)]"
      ]
     },
     "execution_count": 44,
     "metadata": {},
     "output_type": "execute_result"
    }
   ],
   "source": [
    "not_explored"
   ]
  },
  {
   "cell_type": "code",
   "execution_count": null,
   "id": "26e76613",
   "metadata": {},
   "outputs": [],
   "source": []
  }
 ],
 "metadata": {
  "kernelspec": {
   "display_name": "Python 3 (ipykernel)",
   "language": "python",
   "name": "python3"
  },
  "language_info": {
   "codemirror_mode": {
    "name": "ipython",
    "version": 3
   },
   "file_extension": ".py",
   "mimetype": "text/x-python",
   "name": "python",
   "nbconvert_exporter": "python",
   "pygments_lexer": "ipython3",
   "version": "3.9.7"
  }
 },
 "nbformat": 4,
 "nbformat_minor": 5
}
